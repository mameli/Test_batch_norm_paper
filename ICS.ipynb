{
 "cells": [
  {
   "cell_type": "code",
   "execution_count": 2,
   "metadata": {},
   "outputs": [
    {
     "name": "stdout",
     "output_type": "stream",
     "text": [
      "Files already downloaded and verified\n",
      "Files already downloaded and verified\n"
     ]
    }
   ],
   "source": [
    "import torch\n",
    "import torchvision\n",
    "import torchvision.transforms as transforms\n",
    "\n",
    "transform = transforms.Compose(\n",
    "    [transforms.ToTensor(),\n",
    "     transforms.Normalize((0.5, 0.5, 0.5), (0.5, 0.5, 0.5))])\n",
    "\n",
    "trainset = torchvision.datasets.CIFAR10(root='./data', train=True,\n",
    "                                        download=True, transform=transform)\n",
    "trainloader = torch.utils.data.DataLoader(trainset, batch_size=4,\n",
    "                                          shuffle=True, num_workers=2)\n",
    "\n",
    "testset = torchvision.datasets.CIFAR10(root='./data', train=False,\n",
    "                                       download=True, transform=transform)\n",
    "testloader = torch.utils.data.DataLoader(testset, batch_size=4,\n",
    "                                         shuffle=False, num_workers=2)\n",
    "\n",
    "classes = ('plane', 'car', 'bird', 'cat',\n",
    "           'deer', 'dog', 'frog', 'horse', 'ship', 'truck')"
   ]
  },
  {
   "cell_type": "code",
   "execution_count": 3,
   "metadata": {},
   "outputs": [],
   "source": [
    "import torch.nn as nn\n",
    "import torch.nn.functional as F\n",
    "import torch.optim as optim\n",
    "\n",
    "class Net(nn.Module):\n",
    "    def __init__(self):\n",
    "        super(Net, self).__init__()\n",
    "        self.conv1 = nn.Conv2d(3, 6, 5)\n",
    "        self.pool = nn.MaxPool2d(2, 2)\n",
    "        self.conv2 = nn.Conv2d(6, 16, 5)\n",
    "        self.fc1 = nn.Linear(16 * 5 * 5, 120)\n",
    "        self.fc2 = nn.Linear(120, 84)\n",
    "        self.fc3 = nn.Linear(84, 10)\n",
    "\n",
    "    def forward(self, x):\n",
    "        x = self.pool(F.relu(self.conv1(x)))\n",
    "        x = self.pool(F.relu(self.conv2(x)))\n",
    "        x = x.view(-1, 16 * 5 * 5)\n",
    "        x = F.relu(self.fc1(x))\n",
    "        x = F.relu(self.fc2(x))\n",
    "        x = self.fc3(x)\n",
    "        return x\n",
    "\n",
    "net = Net()\n",
    "\n",
    "criterion = nn.CrossEntropyLoss()\n",
    "optimizer = optim.SGD(net.parameters(), lr=0.001)"
   ]
  },
  {
   "cell_type": "code",
   "execution_count": 23,
   "metadata": {},
   "outputs": [
    {
     "name": "stdout",
     "output_type": "stream",
     "text": [
      "ICS :tensor(0.0557)\n",
      "torch.Size([450])\n",
      "torch.Size([450])\n",
      "Cos agle: tensor(0.9961)\n",
      "[1,    40] loss: 2.293\n",
      "Finished Training\n"
     ]
    }
   ],
   "source": [
    "loss_values = []\n",
    "ics_values = []\n",
    "cos = torch.nn.CosineSimilarity(dim=0)\n",
    "\n",
    "for epoch in range(1):  # loop over the dataset multiple times\n",
    "\n",
    "    running_loss = 0.0\n",
    "    for i, data in enumerate(trainloader, 0):\n",
    "        if i >= 10:\n",
    "            break\n",
    "#         get the inputs; data is a list of [inputs, labels]\n",
    "        inputs, labels = data\n",
    "#         print(inputs.size())\n",
    "        # zero the parameter gradients\n",
    "        optimizer.zero_grad()\n",
    "\n",
    "        # forward + backward + optimize\n",
    "        outputs = net(inputs)\n",
    "        loss = criterion(outputs, labels)\n",
    "        loss.backward()\n",
    "        \n",
    "#         # ICS calc\n",
    "        dummyNet = Net()\n",
    "        netParams = list(net.parameters())\n",
    "        for idx, p in enumerate(dummyNet.parameters()):\n",
    "            p.data = netParams[idx].data.clone()\n",
    "            p.grad = netParams[idx].grad.data.clone()\n",
    "        #print(list(dummyNet.parameters())[1])\n",
    "        #print(list(net.parameters())[1])\n",
    "        #print(list(dummyNet.parameters())[1].grad)\n",
    "        #print(list(net.parameters())[1].grad)\n",
    "        learning_rate = 0.1\n",
    "        layerParam = 0\n",
    "        for f in dummyNet.parameters(): # si aggiornano i parametri fino al layer i\n",
    "            if(layerParam//2 < 1):\n",
    "                f.data.sub_(f.grad.data * learning_rate)\n",
    "                layerParam += 1\n",
    "                \n",
    "        dummyOutputs = dummyNet(inputs) \n",
    "        # si calcola la loss con i parametri fino al layer i aggiornati\n",
    "        dummyLoss = criterion(dummyOutputs, labels) \n",
    "        dummyLoss.backward() # nuovi gradienti\n",
    "\n",
    "        optimizer.step() # si aggiornano i parametri del net di partenza\n",
    "\n",
    "        # print statistics\n",
    "        running_loss += loss.item()\n",
    "        if i % 10 == 9:    # print every 10 mini-batches\n",
    "            print(\"ICS :\" + str((net.conv1.weight.grad - dummyNet.conv1.weight.grad).norm(2)))\n",
    "            w = torch.flatten(net.conv1.weight.grad)\n",
    "            print(w.size())\n",
    "            dw = torch.flatten(dummyNet.conv1.weight.grad)\n",
    "            print(dw.size())\n",
    "            print(\"Cos agle: \" + str(cos(w, dw)))\n",
    "            print('[%d, %5d] loss: %.3f' %\n",
    "                  (epoch + 1, (i + 1) * 4, running_loss / 10))\n",
    "            loss_values.append(running_loss/100)\n",
    "            running_loss = 0.0\n",
    "\n",
    "print('Finished Training')"
   ]
  },
  {
   "cell_type": "code",
   "execution_count": 13,
   "metadata": {},
   "outputs": [
    {
     "data": {
      "text/plain": [
       "[<matplotlib.lines.Line2D at 0x7ff6b1743748>]"
      ]
     },
     "execution_count": 13,
     "metadata": {},
     "output_type": "execute_result"
    },
    {
     "data": {
      "image/png": "[encoded data removed]",
      "text/plain": [
       "<Figure size 432x288 with 1 Axes>"
      ]
     },
     "metadata": {
      "needs_background": "light"
     },
     "output_type": "display_data"
    }
   ],
   "source": [
    "import matplotlib.pyplot as plt\n",
    "\n",
    "plt.plot(loss_values)"
   ]
  },
  {
   "cell_type": "code",
   "execution_count": null,
   "metadata": {},
   "outputs": [],
   "source": []
  }
 ],
 "metadata": {
  "kernelspec": {
   "display_name": "Python 3",
   "language": "python",
   "name": "python3"
  },
  "language_info": {
   "codemirror_mode": {
    "name": "ipython",
    "version": 3
   },
   "file_extension": ".py",
   "mimetype": "text/x-python",
   "name": "python",
   "nbconvert_exporter": "python",
   "pygments_lexer": "ipython3",
   "version": "3.7.4"
  }
 },
 "nbformat": 4,
 "nbformat_minor": 2
}
